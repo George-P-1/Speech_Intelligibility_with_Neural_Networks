{
 "cells": [
  {
   "cell_type": "markdown",
   "metadata": {},
   "source": [
    "# Load and Analyze .npz Files"
   ]
  },
  {
   "cell_type": "markdown",
   "metadata": {},
   "source": [
    "### d_matrices_only"
   ]
  },
  {
   "cell_type": "code",
   "execution_count": 43,
   "metadata": {},
   "outputs": [
    {
     "name": "stdout",
     "output_type": "stream",
     "text": [
      "File: C:\\Users\\George\\Desktop\\Automatic Control and Robotics\\Semester 7\\Thesis\\Neural Networks\\Workspace\\npz_d_matrices_only\\d_matrices_Test_2025-02-05_19-21-34.npz\n",
      "Shape of d_matrices: (2421, 277, 15, 30)\n",
      "File: C:\\Users\\George\\Desktop\\Automatic Control and Robotics\\Semester 7\\Thesis\\Neural Networks\\Workspace\\npz_d_matrices_only\\d_matrices_Test_Independent_2025-02-05_19-35-29.npz\n",
      "Shape of d_matrices: (632, 277, 15, 30)\n",
      "File: C:\\Users\\George\\Desktop\\Automatic Control and Robotics\\Semester 7\\Thesis\\Neural Networks\\Workspace\\npz_d_matrices_only\\d_matrices_Train_2025-02-05_18-09-58.npz\n",
      "Shape of d_matrices: (4863, 277, 15, 30)\n",
      "File: C:\\Users\\George\\Desktop\\Automatic Control and Robotics\\Semester 7\\Thesis\\Neural Networks\\Workspace\\npz_d_matrices_only\\d_matrices_Train_Independent_2025-02-05_18-43-42.npz\n",
      "Shape of d_matrices: (3580, 277, 15, 30)\n"
     ]
    }
   ],
   "source": [
    "import numpy as np\n",
    "import os\n",
    "\n",
    "folder_path = r\"C:\\Users\\George\\Desktop\\Automatic Control and Robotics\\Semester 7\\Thesis\\Neural Networks\\Workspace\\preprocessed_datasets\\npz_d_matrices_only\"\n",
    "file_paths = [os.path.join(folder_path, file) for file in os.listdir(folder_path) if file.endswith('.npz')]\n",
    "\n",
    "for path in file_paths:\n",
    "    data = np.load(path)\n",
    "    d_matrices = data[\"d_matrices\"]\n",
    "    print(f\"File: {path}\")\n",
    "    print(f\"Shape of d_matrices: {d_matrices.shape}\")\n",
    "    data.close()\n"
   ]
  },
  {
   "cell_type": "markdown",
   "metadata": {},
   "source": [
    "### d_matrices_correctness"
   ]
  },
  {
   "cell_type": "code",
   "execution_count": null,
   "metadata": {},
   "outputs": [
    {
     "name": "stdout",
     "output_type": "stream",
     "text": [
      "File: C:\\Users\\George\\Desktop\\Automatic Control and Robotics\\Semester 7\\Thesis\\Neural Networks\\Workspace\\npz_d_matrices_correctness\\d_matrices_correctness_Test_2025-02-05_21-30-44.npz\n",
      "Shape of d_matrices: (2421, 277, 15, 30)\n",
      "Shape of correctness: (2421,)\n",
      "File: C:\\Users\\George\\Desktop\\Automatic Control and Robotics\\Semester 7\\Thesis\\Neural Networks\\Workspace\\npz_d_matrices_correctness\\d_matrices_correctness_Test_Independent_2025-02-05_21-23-06.npz\n",
      "Shape of d_matrices: (632, 277, 15, 30)\n",
      "Shape of correctness: (632,)\n",
      "File: C:\\Users\\George\\Desktop\\Automatic Control and Robotics\\Semester 7\\Thesis\\Neural Networks\\Workspace\\npz_d_matrices_correctness\\d_matrices_correctness_Train_2025-02-05_20-18-01.npz\n",
      "Shape of d_matrices: (4863, 277, 15, 30)\n",
      "Shape of correctness: (4863,)\n",
      "File: C:\\Users\\George\\Desktop\\Automatic Control and Robotics\\Semester 7\\Thesis\\Neural Networks\\Workspace\\npz_d_matrices_correctness\\d_matrices_correctness_Train_Independent_2025-02-05_20-36-58.npz\n",
      "Shape of d_matrices: (3580, 277, 15, 30)\n",
      "Shape of correctness: (3580,)\n"
     ]
    }
   ],
   "source": [
    "import numpy as np\n",
    "\n",
    "folder_path = r\"C:\\Users\\George\\Desktop\\Automatic Control and Robotics\\Semester 7\\Thesis\\Neural Networks\\Workspace\\preprocessed_datasets\\npz_d_matrices_correctness\"\n",
    "file_paths = [os.path.join(folder_path, file) for file in os.listdir(folder_path) if file.endswith('.npz')]\n",
    "\n",
    "for path in file_paths:\n",
    "    data = np.load(path)\n",
    "    d_matrices = data[\"d_matrices\"]\n",
    "    correctness = data[\"correctness\"]\n",
    "    print(f\"File: {path}\")\n",
    "    print(f\"Shape of d_matrices: {d_matrices.shape}\")\n",
    "    print(f\"Shape of correctness: {correctness.shape}\")\n",
    "    data.close()\n"
   ]
  },
  {
   "cell_type": "markdown",
   "metadata": {},
   "source": [
    "### d_matrices_correctness_audiograms"
   ]
  },
  {
   "cell_type": "code",
   "execution_count": 47,
   "metadata": {},
   "outputs": [
    {
     "name": "stdout",
     "output_type": "stream",
     "text": [
      "File: C:\\Users\\George\\Desktop\\Automatic Control and Robotics\\Semester 7\\Thesis\\Neural Networks\\Workspace\\preprocessed_datasets\\npz_d_matrices_correctness_audiograms\\d_matrices_correctness_audiograms_Test_2025-02-05_22-46-44.npz\n",
      "Shape of d_matrices: (2421, 277, 15, 30)\n",
      "Shape of correctness: (2421,)\n",
      "Shape of audiograms: (2421, 16)\n",
      "File: C:\\Users\\George\\Desktop\\Automatic Control and Robotics\\Semester 7\\Thesis\\Neural Networks\\Workspace\\preprocessed_datasets\\npz_d_matrices_correctness_audiograms\\d_matrices_correctness_audiograms_Test_Independent_2025-02-05_23-19-49.npz\n",
      "Shape of d_matrices: (632, 277, 15, 30)\n",
      "Shape of correctness: (632,)\n",
      "Shape of audiograms: (632, 16)\n",
      "File: C:\\Users\\George\\Desktop\\Automatic Control and Robotics\\Semester 7\\Thesis\\Neural Networks\\Workspace\\preprocessed_datasets\\npz_d_matrices_correctness_audiograms\\d_matrices_correctness_audiograms_Train_2025-02-05_22-07-04.npz\n",
      "Shape of d_matrices: (4863, 277, 15, 30)\n",
      "Shape of correctness: (4863,)\n",
      "Shape of audiograms: (4863, 16)\n",
      "File: C:\\Users\\George\\Desktop\\Automatic Control and Robotics\\Semester 7\\Thesis\\Neural Networks\\Workspace\\preprocessed_datasets\\npz_d_matrices_correctness_audiograms\\d_matrices_correctness_audiograms_Train_Independent_2025-02-05_22-57-12.npz\n",
      "Shape of d_matrices: (3580, 277, 15, 30)\n",
      "Shape of correctness: (3580,)\n",
      "Shape of audiograms: (3580, 16)\n"
     ]
    }
   ],
   "source": [
    "import numpy as np\n",
    "\n",
    "folder_path = r\"C:\\Users\\George\\Desktop\\Automatic Control and Robotics\\Semester 7\\Thesis\\Neural Networks\\Workspace\\preprocessed_datasets\\npz_d_matrices_correctness_audiograms\"\n",
    "file_paths = [os.path.join(folder_path, file) for file in os.listdir(folder_path) if file.endswith('.npz')]\n",
    "\n",
    "for path in file_paths:\n",
    "    data = np.load(path)\n",
    "    d_matrices = data[\"d_matrices\"]\n",
    "    correctness = data[\"correctness\"]\n",
    "    audiograms = data[\"audiograms\"]\n",
    "    print(f\"File: {path}\")\n",
    "    print(f\"Shape of d_matrices: {d_matrices.shape}\")\n",
    "    print(f\"Shape of correctness: {correctness.shape}\")\n",
    "    print(f\"Shape of audiograms: {audiograms.shape}\")\n",
    "    data.close()\n"
   ]
  },
  {
   "cell_type": "markdown",
   "metadata": {},
   "source": [
    "# Check individual .npz file and analyze the data"
   ]
  },
  {
   "cell_type": "code",
   "execution_count": null,
   "metadata": {},
   "outputs": [],
   "source": [
    "import numpy as np"
   ]
  },
  {
   "cell_type": "code",
   "execution_count": 35,
   "metadata": {},
   "outputs": [],
   "source": [
    "# Load the .npz file (Replace with your actual file path)\n",
    "file_path = r\"C:\\Users\\George\\Desktop\\Automatic Control and Robotics\\Semester 7\\Thesis\\Neural Networks\\Workspace\\preprocessed_datasets\\npz_d_matrices_only\\d_matrices_Train_2025-02-05_18-09-58.npz\"\n",
    "data = np.load(file_path)"
   ]
  },
  {
   "cell_type": "code",
   "execution_count": 36,
   "metadata": {},
   "outputs": [
    {
     "name": "stdout",
     "output_type": "stream",
     "text": [
      "Keys in the dataset: ['d_matrices']\n",
      "\n",
      "Shape of d_matrices: (4863, 277, 15, 30)\n",
      "Data type of d_matrices: float32\n",
      "\n",
      "--- d_matrices Stats ---\n",
      "Min: -0.46568367\n",
      "Max: 0.9608913\n",
      "Mean: 0.012603188\n",
      "Std Dev: 0.03756132\n"
     ]
    }
   ],
   "source": [
    "# List all keys inside the .npz file\n",
    "print(\"Keys in the dataset:\", list(data.keys()))\n",
    "\n",
    "# Extract the d-matrices\n",
    "d_matrices = data[\"d_matrices\"]\n",
    "print(\"\\nShape of d_matrices:\", d_matrices.shape)\n",
    "print(\"Data type of d_matrices:\", d_matrices.dtype)\n",
    "\n",
    "# Check min, max, and mean values\n",
    "print(\"\\n--- d_matrices Stats ---\")\n",
    "print(\"Min:\", np.min(d_matrices))\n",
    "print(\"Max:\", np.max(d_matrices))\n",
    "print(\"Mean:\", np.mean(d_matrices))\n",
    "print(\"Std Dev:\", np.std(d_matrices))"
   ]
  },
  {
   "cell_type": "code",
   "execution_count": 37,
   "metadata": {},
   "outputs": [],
   "source": [
    "# Visualize the first sample (optional)\n",
    "import matplotlib.pyplot as plt\n",
    "%matplotlib inline"
   ]
  },
  {
   "cell_type": "code",
   "execution_count": 38,
   "metadata": {},
   "outputs": [
    {
     "data": {
      "text/plain": [
       "(15, 30)"
      ]
     },
     "execution_count": 38,
     "metadata": {},
     "output_type": "execute_result"
    }
   ],
   "source": [
    "d_matrices[0][0].shape"
   ]
  },
  {
   "cell_type": "code",
   "execution_count": 39,
   "metadata": {},
   "outputs": [
    {
     "data": {
      "text/plain": [
       "Text(0, 0.5, 'Frequency Bands')"
      ]
     },
     "execution_count": 39,
     "metadata": {},
     "output_type": "execute_result"
    },
    {
     "data": {
      "image/png": "[encoded data removed]",
      "text/plain": [
       "<Figure size 1000x500 with 2 Axes>"
      ]
     },
     "metadata": {},
     "output_type": "display_data"
    }
   ],
   "source": [
    "plt.figure(figsize=(10, 5))\n",
    "plt.imshow(d_matrices[0][0], aspect=\"auto\", cmap=\"viridis\")\n",
    "plt.colorbar()\n",
    "plt.title(\"Visualization of First d-matrix Sample\")\n",
    "plt.xlabel(\"Time Frames\")\n",
    "plt.ylabel(\"Frequency Bands\")"
   ]
  },
  {
   "cell_type": "code",
   "execution_count": 40,
   "metadata": {},
   "outputs": [],
   "source": [
    "# Close the dataset\n",
    "data.close()"
   ]
  }
 ],
 "metadata": {
  "kernelspec": {
   "display_name": ".venv",
   "language": "python",
   "name": "python3"
  },
  "language_info": {
   "codemirror_mode": {
    "name": "ipython",
    "version": 3
   },
   "file_extension": ".py",
   "mimetype": "text/x-python",
   "name": "python",
   "nbconvert_exporter": "python",
   "pygments_lexer": "ipython3",
   "version": "3.11.2"
  }
 },
 "nbformat": 4,
 "nbformat_minor": 2
}
