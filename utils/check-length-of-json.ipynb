{
 "cells": [
  {
   "cell_type": "markdown",
   "metadata": {},
   "source": [
    "# Check Length of JSON file\n",
    "---"
   ]
  },
  {
   "cell_type": "code",
   "execution_count": 35,
   "metadata": {},
   "outputs": [],
   "source": [
    "import json"
   ]
  },
  {
   "cell_type": "code",
   "execution_count": 36,
   "metadata": {},
   "outputs": [],
   "source": [
    "# Path to your JSON file\n",
    "json_file_path = r'C:\\Users\\George\\Desktop\\Automatic Control and Robotics\\Semester 7\\Thesis\\Datasets and other Downloads\\clarity_CPC1_data.v1_1\\clarity_CPC1_data\\metadata\\listeners.CPC1_train.json'\n"
   ]
  },
  {
   "cell_type": "code",
   "execution_count": 37,
   "metadata": {},
   "outputs": [
    {
     "name": "stdout",
     "output_type": "stream",
     "text": [
      "Number of keys in the JSON object: 27\n"
     ]
    }
   ],
   "source": [
    "# Load the JSON file\n",
    "with open(json_file_path, 'r') as file:\n",
    "    data = json.load(file)\n",
    "    # Check the number of items\n",
    "    if isinstance(data, dict):\n",
    "        print(f\"Number of keys in the JSON object: {len(data)}\")\n",
    "    elif isinstance(data, list):\n",
    "        print(f\"Number of items in the JSON array: {len(data)}\")\n",
    "    else:\n",
    "        print(\"The JSON file does not contain a dictionary or array at the top level.\")\n",
    "    d1 = len(data)"
   ]
  },
  {
   "cell_type": "code",
   "execution_count": 38,
   "metadata": {},
   "outputs": [],
   "source": [
    "# Path to your JSON file\n",
    "json_file_path = r'C:\\Users\\George\\Desktop\\Automatic Control and Robotics\\Semester 7\\Thesis\\Datasets and other Downloads\\clarity_CPC1_data.test.v1\\clarity_CPC1_data\\metadata\\listeners.CPC1_all.json'\n"
   ]
  },
  {
   "cell_type": "code",
   "execution_count": 39,
   "metadata": {},
   "outputs": [
    {
     "name": "stdout",
     "output_type": "stream",
     "text": [
      "Number of keys in the JSON object: 45\n"
     ]
    }
   ],
   "source": [
    "# Load the JSON file\n",
    "with open(json_file_path, 'r') as file:\n",
    "    data = json.load(file)\n",
    "    # Check the number of items\n",
    "    if isinstance(data, dict):\n",
    "        print(f\"Number of keys in the JSON object: {len(data)}\")\n",
    "    elif isinstance(data, list):\n",
    "        print(f\"Number of items in the JSON array: {len(data)}\")\n",
    "    else:\n",
    "        print(\"The JSON file does not contain a dictionary or array at the top level.\")\n",
    "    d2 = len(data)"
   ]
  },
  {
   "cell_type": "code",
   "execution_count": 40,
   "metadata": {},
   "outputs": [
    {
     "name": "stdout",
     "output_type": "stream",
     "text": [
      "Difference: 18\n"
     ]
    }
   ],
   "source": [
    "# Difference\n",
    "diff = d2 - d1\n",
    "print(f\"Difference: {diff}\")"
   ]
  }
 ],
 "metadata": {
  "kernelspec": {
   "display_name": "Python 3",
   "language": "python",
   "name": "python3"
  },
  "language_info": {
   "codemirror_mode": {
    "name": "ipython",
    "version": 3
   },
   "file_extension": ".py",
   "mimetype": "text/x-python",
   "name": "python",
   "nbconvert_exporter": "python",
   "pygments_lexer": "ipython3",
   "version": "3.11.2"
  }
 },
 "nbformat": 4,
 "nbformat_minor": 2
}
